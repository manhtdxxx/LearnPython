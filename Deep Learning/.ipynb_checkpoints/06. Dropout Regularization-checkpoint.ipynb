{
 "cells": [
  {
   "cell_type": "code",
   "execution_count": 1,
   "id": "a203673c",
   "metadata": {},
   "outputs": [
    {
     "name": "stdout",
     "output_type": "stream",
     "text": [
      "WARNING:tensorflow:From D:\\Anaconda\\Lib\\site-packages\\keras\\src\\losses.py:2976: The name tf.losses.sparse_softmax_cross_entropy is deprecated. Please use tf.compat.v1.losses.sparse_softmax_cross_entropy instead.\n",
      "\n"
     ]
    }
   ],
   "source": [
    "import numpy as np\n",
    "import pandas as pd\n",
    "import matplotlib.pyplot as plt\n",
    "import seaborn as sns\n",
    "from sklearn.model_selection import train_test_split\n",
    "from sklearn.metrics import confusion_matrix, classification_report\n",
    "import tensorflow as tf\n",
    "from tensorflow import keras"
   ]
  },
  {
   "cell_type": "code",
   "execution_count": 2,
   "id": "467b194b",
   "metadata": {},
   "outputs": [],
   "source": [
    "import warnings\n",
    "warnings.filterwarnings('ignore')"
   ]
  },
  {
   "cell_type": "code",
   "execution_count": 3,
   "id": "1608d6c3",
   "metadata": {},
   "outputs": [
    {
     "data": {
      "text/html": [
       "<div>\n",
       "<style scoped>\n",
       "    .dataframe tbody tr th:only-of-type {\n",
       "        vertical-align: middle;\n",
       "    }\n",
       "\n",
       "    .dataframe tbody tr th {\n",
       "        vertical-align: top;\n",
       "    }\n",
       "\n",
       "    .dataframe thead th {\n",
       "        text-align: right;\n",
       "    }\n",
       "</style>\n",
       "<table border=\"1\" class=\"dataframe\">\n",
       "  <thead>\n",
       "    <tr style=\"text-align: right;\">\n",
       "      <th></th>\n",
       "      <th>0</th>\n",
       "      <th>1</th>\n",
       "      <th>2</th>\n",
       "      <th>3</th>\n",
       "      <th>4</th>\n",
       "      <th>5</th>\n",
       "      <th>6</th>\n",
       "      <th>7</th>\n",
       "      <th>8</th>\n",
       "      <th>9</th>\n",
       "      <th>...</th>\n",
       "      <th>51</th>\n",
       "      <th>52</th>\n",
       "      <th>53</th>\n",
       "      <th>54</th>\n",
       "      <th>55</th>\n",
       "      <th>56</th>\n",
       "      <th>57</th>\n",
       "      <th>58</th>\n",
       "      <th>59</th>\n",
       "      <th>60</th>\n",
       "    </tr>\n",
       "  </thead>\n",
       "  <tbody>\n",
       "    <tr>\n",
       "      <th>129</th>\n",
       "      <td>0.1371</td>\n",
       "      <td>0.1226</td>\n",
       "      <td>0.1385</td>\n",
       "      <td>0.1484</td>\n",
       "      <td>0.1776</td>\n",
       "      <td>0.1428</td>\n",
       "      <td>0.1773</td>\n",
       "      <td>0.2161</td>\n",
       "      <td>0.1630</td>\n",
       "      <td>0.2067</td>\n",
       "      <td>...</td>\n",
       "      <td>0.0118</td>\n",
       "      <td>0.0129</td>\n",
       "      <td>0.0344</td>\n",
       "      <td>0.0065</td>\n",
       "      <td>0.0067</td>\n",
       "      <td>0.0022</td>\n",
       "      <td>0.0079</td>\n",
       "      <td>0.0146</td>\n",
       "      <td>0.0051</td>\n",
       "      <td>M</td>\n",
       "    </tr>\n",
       "    <tr>\n",
       "      <th>78</th>\n",
       "      <td>0.0231</td>\n",
       "      <td>0.0351</td>\n",
       "      <td>0.0030</td>\n",
       "      <td>0.0304</td>\n",
       "      <td>0.0339</td>\n",
       "      <td>0.0860</td>\n",
       "      <td>0.1738</td>\n",
       "      <td>0.1351</td>\n",
       "      <td>0.1063</td>\n",
       "      <td>0.0347</td>\n",
       "      <td>...</td>\n",
       "      <td>0.0106</td>\n",
       "      <td>0.0097</td>\n",
       "      <td>0.0022</td>\n",
       "      <td>0.0052</td>\n",
       "      <td>0.0072</td>\n",
       "      <td>0.0056</td>\n",
       "      <td>0.0038</td>\n",
       "      <td>0.0043</td>\n",
       "      <td>0.0030</td>\n",
       "      <td>R</td>\n",
       "    </tr>\n",
       "    <tr>\n",
       "      <th>22</th>\n",
       "      <td>0.0099</td>\n",
       "      <td>0.0484</td>\n",
       "      <td>0.0299</td>\n",
       "      <td>0.0297</td>\n",
       "      <td>0.0652</td>\n",
       "      <td>0.1077</td>\n",
       "      <td>0.2363</td>\n",
       "      <td>0.2385</td>\n",
       "      <td>0.0075</td>\n",
       "      <td>0.1882</td>\n",
       "      <td>...</td>\n",
       "      <td>0.0173</td>\n",
       "      <td>0.0149</td>\n",
       "      <td>0.0115</td>\n",
       "      <td>0.0202</td>\n",
       "      <td>0.0139</td>\n",
       "      <td>0.0029</td>\n",
       "      <td>0.0160</td>\n",
       "      <td>0.0106</td>\n",
       "      <td>0.0134</td>\n",
       "      <td>R</td>\n",
       "    </tr>\n",
       "    <tr>\n",
       "      <th>168</th>\n",
       "      <td>0.0015</td>\n",
       "      <td>0.0186</td>\n",
       "      <td>0.0289</td>\n",
       "      <td>0.0195</td>\n",
       "      <td>0.0515</td>\n",
       "      <td>0.0817</td>\n",
       "      <td>0.1005</td>\n",
       "      <td>0.0124</td>\n",
       "      <td>0.1168</td>\n",
       "      <td>0.1476</td>\n",
       "      <td>...</td>\n",
       "      <td>0.0108</td>\n",
       "      <td>0.0075</td>\n",
       "      <td>0.0089</td>\n",
       "      <td>0.0036</td>\n",
       "      <td>0.0029</td>\n",
       "      <td>0.0013</td>\n",
       "      <td>0.0010</td>\n",
       "      <td>0.0032</td>\n",
       "      <td>0.0047</td>\n",
       "      <td>M</td>\n",
       "    </tr>\n",
       "    <tr>\n",
       "      <th>124</th>\n",
       "      <td>0.0388</td>\n",
       "      <td>0.0324</td>\n",
       "      <td>0.0688</td>\n",
       "      <td>0.0898</td>\n",
       "      <td>0.1267</td>\n",
       "      <td>0.1515</td>\n",
       "      <td>0.2134</td>\n",
       "      <td>0.2613</td>\n",
       "      <td>0.2832</td>\n",
       "      <td>0.2718</td>\n",
       "      <td>...</td>\n",
       "      <td>0.0255</td>\n",
       "      <td>0.0071</td>\n",
       "      <td>0.0263</td>\n",
       "      <td>0.0079</td>\n",
       "      <td>0.0111</td>\n",
       "      <td>0.0107</td>\n",
       "      <td>0.0068</td>\n",
       "      <td>0.0097</td>\n",
       "      <td>0.0067</td>\n",
       "      <td>M</td>\n",
       "    </tr>\n",
       "  </tbody>\n",
       "</table>\n",
       "<p>5 rows × 61 columns</p>\n",
       "</div>"
      ],
      "text/plain": [
       "         0       1       2       3       4       5       6       7       8   \\\n",
       "129  0.1371  0.1226  0.1385  0.1484  0.1776  0.1428  0.1773  0.2161  0.1630   \n",
       "78   0.0231  0.0351  0.0030  0.0304  0.0339  0.0860  0.1738  0.1351  0.1063   \n",
       "22   0.0099  0.0484  0.0299  0.0297  0.0652  0.1077  0.2363  0.2385  0.0075   \n",
       "168  0.0015  0.0186  0.0289  0.0195  0.0515  0.0817  0.1005  0.0124  0.1168   \n",
       "124  0.0388  0.0324  0.0688  0.0898  0.1267  0.1515  0.2134  0.2613  0.2832   \n",
       "\n",
       "         9   ...      51      52      53      54      55      56      57  \\\n",
       "129  0.2067  ...  0.0118  0.0129  0.0344  0.0065  0.0067  0.0022  0.0079   \n",
       "78   0.0347  ...  0.0106  0.0097  0.0022  0.0052  0.0072  0.0056  0.0038   \n",
       "22   0.1882  ...  0.0173  0.0149  0.0115  0.0202  0.0139  0.0029  0.0160   \n",
       "168  0.1476  ...  0.0108  0.0075  0.0089  0.0036  0.0029  0.0013  0.0010   \n",
       "124  0.2718  ...  0.0255  0.0071  0.0263  0.0079  0.0111  0.0107  0.0068   \n",
       "\n",
       "         58      59  60  \n",
       "129  0.0146  0.0051   M  \n",
       "78   0.0043  0.0030   R  \n",
       "22   0.0106  0.0134   R  \n",
       "168  0.0032  0.0047   M  \n",
       "124  0.0097  0.0067   M  \n",
       "\n",
       "[5 rows x 61 columns]"
      ]
     },
     "execution_count": 3,
     "metadata": {},
     "output_type": "execute_result"
    }
   ],
   "source": [
    "df = pd.read_csv(\"sonar.csv\", header=None)\n",
    "df.sample(5)"
   ]
  },
  {
   "cell_type": "code",
   "execution_count": 4,
   "id": "1fe67f6e",
   "metadata": {},
   "outputs": [
    {
     "data": {
      "text/plain": [
       "(208, 61)"
      ]
     },
     "execution_count": 4,
     "metadata": {},
     "output_type": "execute_result"
    }
   ],
   "source": [
    "df.shape"
   ]
  },
  {
   "cell_type": "code",
   "execution_count": 5,
   "id": "92466110",
   "metadata": {},
   "outputs": [
    {
     "data": {
      "text/plain": [
       "60\n",
       "M    111\n",
       "R     97\n",
       "Name: count, dtype: int64"
      ]
     },
     "execution_count": 5,
     "metadata": {},
     "output_type": "execute_result"
    }
   ],
   "source": [
    "df[60].value_counts()"
   ]
  },
  {
   "cell_type": "code",
   "execution_count": 6,
   "id": "9928ef96",
   "metadata": {},
   "outputs": [
    {
     "data": {
      "text/plain": [
       "((208, 60), (208,))"
      ]
     },
     "execution_count": 6,
     "metadata": {},
     "output_type": "execute_result"
    }
   ],
   "source": [
    "X = df.drop(60, axis='columns')\n",
    "Y = df[60]\n",
    "X.shape, Y.shape"
   ]
  },
  {
   "cell_type": "code",
   "execution_count": 7,
   "id": "6df3ab5d",
   "metadata": {
    "scrolled": true
   },
   "outputs": [
    {
     "data": {
      "text/plain": [
       "((208, 1),\n",
       " R\n",
       " 0    111\n",
       " 1     97\n",
       " Name: count, dtype: int64)"
      ]
     },
     "execution_count": 7,
     "metadata": {},
     "output_type": "execute_result"
    }
   ],
   "source": [
    "Y_dummies = pd.get_dummies(Y, drop_first=True,dtype='int16')\n",
    "Y_dummies.shape, Y_dummies.value_counts()"
   ]
  },
  {
   "cell_type": "code",
   "execution_count": 8,
   "id": "e256f694",
   "metadata": {},
   "outputs": [
    {
     "data": {
      "text/plain": [
       "((166, 60), (166, 1), (42, 60), (42, 1))"
      ]
     },
     "execution_count": 8,
     "metadata": {},
     "output_type": "execute_result"
    }
   ],
   "source": [
    "X_train, X_test, y_train, y_test = train_test_split(X,Y_dummies, train_size=0.8, random_state=1)\n",
    "X_train.shape, y_train.shape, X_test.shape, y_test.shape"
   ]
  },
  {
   "cell_type": "markdown",
   "id": "4d32b88e",
   "metadata": {},
   "source": [
    "### Without Dropout"
   ]
  },
  {
   "cell_type": "code",
   "execution_count": 9,
   "id": "a721d947",
   "metadata": {
    "scrolled": true
   },
   "outputs": [
    {
     "name": "stdout",
     "output_type": "stream",
     "text": [
      "WARNING:tensorflow:From D:\\Anaconda\\Lib\\site-packages\\keras\\src\\backend.py:873: The name tf.get_default_graph is deprecated. Please use tf.compat.v1.get_default_graph instead.\n",
      "\n",
      "WARNING:tensorflow:From D:\\Anaconda\\Lib\\site-packages\\keras\\src\\optimizers\\__init__.py:309: The name tf.train.Optimizer is deprecated. Please use tf.compat.v1.train.Optimizer instead.\n",
      "\n",
      "Epoch 1/100\n",
      "WARNING:tensorflow:From D:\\Anaconda\\Lib\\site-packages\\keras\\src\\utils\\tf_utils.py:492: The name tf.ragged.RaggedTensorValue is deprecated. Please use tf.compat.v1.ragged.RaggedTensorValue instead.\n",
      "\n",
      "WARNING:tensorflow:From D:\\Anaconda\\Lib\\site-packages\\keras\\src\\engine\\base_layer_utils.py:384: The name tf.executing_eagerly_outside_functions is deprecated. Please use tf.compat.v1.executing_eagerly_outside_functions instead.\n",
      "\n",
      "6/6 [==============================] - 2s 11ms/step - loss: 0.6871 - accuracy: 0.5723\n",
      "Epoch 2/100\n",
      "6/6 [==============================] - 0s 8ms/step - loss: 0.6766 - accuracy: 0.5964\n",
      "Epoch 3/100\n",
      "6/6 [==============================] - 0s 8ms/step - loss: 0.6701 - accuracy: 0.6024\n",
      "Epoch 4/100\n",
      "6/6 [==============================] - 0s 8ms/step - loss: 0.6627 - accuracy: 0.6205\n",
      "Epoch 5/100\n",
      "6/6 [==============================] - 0s 7ms/step - loss: 0.6566 - accuracy: 0.6325\n",
      "Epoch 6/100\n",
      "6/6 [==============================] - 0s 7ms/step - loss: 0.6502 - accuracy: 0.6265\n",
      "Epoch 7/100\n",
      "6/6 [==============================] - 0s 7ms/step - loss: 0.6430 - accuracy: 0.6386\n",
      "Epoch 8/100\n",
      "6/6 [==============================] - 0s 7ms/step - loss: 0.6369 - accuracy: 0.6506\n",
      "Epoch 9/100\n",
      "6/6 [==============================] - 0s 7ms/step - loss: 0.6303 - accuracy: 0.6747\n",
      "Epoch 10/100\n",
      "6/6 [==============================] - 0s 7ms/step - loss: 0.6235 - accuracy: 0.6807\n",
      "Epoch 11/100\n",
      "6/6 [==============================] - 0s 7ms/step - loss: 0.6180 - accuracy: 0.6687\n",
      "Epoch 12/100\n",
      "6/6 [==============================] - 0s 7ms/step - loss: 0.6095 - accuracy: 0.7169\n",
      "Epoch 13/100\n",
      "6/6 [==============================] - 0s 7ms/step - loss: 0.6019 - accuracy: 0.7530\n",
      "Epoch 14/100\n",
      "6/6 [==============================] - 0s 7ms/step - loss: 0.5939 - accuracy: 0.7771\n",
      "Epoch 15/100\n",
      "6/6 [==============================] - 0s 7ms/step - loss: 0.5858 - accuracy: 0.7952\n",
      "Epoch 16/100\n",
      "6/6 [==============================] - 0s 6ms/step - loss: 0.5778 - accuracy: 0.7831\n",
      "Epoch 17/100\n",
      "6/6 [==============================] - 0s 7ms/step - loss: 0.5692 - accuracy: 0.7771\n",
      "Epoch 18/100\n",
      "6/6 [==============================] - 0s 7ms/step - loss: 0.5593 - accuracy: 0.7771\n",
      "Epoch 19/100\n",
      "6/6 [==============================] - 0s 7ms/step - loss: 0.5507 - accuracy: 0.7530\n",
      "Epoch 20/100\n",
      "6/6 [==============================] - 0s 7ms/step - loss: 0.5417 - accuracy: 0.7530\n",
      "Epoch 21/100\n",
      "6/6 [==============================] - 0s 7ms/step - loss: 0.5346 - accuracy: 0.7530\n",
      "Epoch 22/100\n",
      "6/6 [==============================] - 0s 7ms/step - loss: 0.5242 - accuracy: 0.8072\n",
      "Epoch 23/100\n",
      "6/6 [==============================] - 0s 7ms/step - loss: 0.5212 - accuracy: 0.8012\n",
      "Epoch 24/100\n",
      "6/6 [==============================] - 0s 7ms/step - loss: 0.5109 - accuracy: 0.8253\n",
      "Epoch 25/100\n",
      "6/6 [==============================] - 0s 7ms/step - loss: 0.5039 - accuracy: 0.8253\n",
      "Epoch 26/100\n",
      "6/6 [==============================] - 0s 7ms/step - loss: 0.4950 - accuracy: 0.8133\n",
      "Epoch 27/100\n",
      "6/6 [==============================] - 0s 7ms/step - loss: 0.4894 - accuracy: 0.8072\n",
      "Epoch 28/100\n",
      "6/6 [==============================] - 0s 7ms/step - loss: 0.4840 - accuracy: 0.8012\n",
      "Epoch 29/100\n",
      "6/6 [==============================] - 0s 7ms/step - loss: 0.4741 - accuracy: 0.8133\n",
      "Epoch 30/100\n",
      "6/6 [==============================] - 0s 7ms/step - loss: 0.4708 - accuracy: 0.8373\n",
      "Epoch 31/100\n",
      "6/6 [==============================] - 0s 7ms/step - loss: 0.4651 - accuracy: 0.8373\n",
      "Epoch 32/100\n",
      "6/6 [==============================] - 0s 7ms/step - loss: 0.4537 - accuracy: 0.8133\n",
      "Epoch 33/100\n",
      "6/6 [==============================] - 0s 7ms/step - loss: 0.4470 - accuracy: 0.8193\n",
      "Epoch 34/100\n",
      "6/6 [==============================] - 0s 7ms/step - loss: 0.4429 - accuracy: 0.8434\n",
      "Epoch 35/100\n",
      "6/6 [==============================] - 0s 10ms/step - loss: 0.4395 - accuracy: 0.8373\n",
      "Epoch 36/100\n",
      "6/6 [==============================] - 0s 7ms/step - loss: 0.4320 - accuracy: 0.8434\n",
      "Epoch 37/100\n",
      "6/6 [==============================] - 0s 7ms/step - loss: 0.4233 - accuracy: 0.8373\n",
      "Epoch 38/100\n",
      "6/6 [==============================] - 0s 7ms/step - loss: 0.4191 - accuracy: 0.8253\n",
      "Epoch 39/100\n",
      "6/6 [==============================] - 0s 7ms/step - loss: 0.4128 - accuracy: 0.8434\n",
      "Epoch 40/100\n",
      "6/6 [==============================] - 0s 7ms/step - loss: 0.4135 - accuracy: 0.8494\n",
      "Epoch 41/100\n",
      "6/6 [==============================] - 0s 7ms/step - loss: 0.4004 - accuracy: 0.8434\n",
      "Epoch 42/100\n",
      "6/6 [==============================] - 0s 7ms/step - loss: 0.4098 - accuracy: 0.8012\n",
      "Epoch 43/100\n",
      "6/6 [==============================] - 0s 7ms/step - loss: 0.4027 - accuracy: 0.8193\n",
      "Epoch 44/100\n",
      "6/6 [==============================] - 0s 7ms/step - loss: 0.3913 - accuracy: 0.8614\n",
      "Epoch 45/100\n",
      "6/6 [==============================] - 0s 7ms/step - loss: 0.3881 - accuracy: 0.8614\n",
      "Epoch 46/100\n",
      "6/6 [==============================] - 0s 7ms/step - loss: 0.3830 - accuracy: 0.8494\n",
      "Epoch 47/100\n",
      "6/6 [==============================] - 0s 7ms/step - loss: 0.3800 - accuracy: 0.8614\n",
      "Epoch 48/100\n",
      "6/6 [==============================] - 0s 7ms/step - loss: 0.3782 - accuracy: 0.8614\n",
      "Epoch 49/100\n",
      "6/6 [==============================] - 0s 7ms/step - loss: 0.3766 - accuracy: 0.8735\n",
      "Epoch 50/100\n",
      "6/6 [==============================] - 0s 7ms/step - loss: 0.3683 - accuracy: 0.8614\n",
      "Epoch 51/100\n",
      "6/6 [==============================] - 0s 7ms/step - loss: 0.3683 - accuracy: 0.8554\n",
      "Epoch 52/100\n",
      "6/6 [==============================] - 0s 7ms/step - loss: 0.3631 - accuracy: 0.8614\n",
      "Epoch 53/100\n",
      "6/6 [==============================] - 0s 7ms/step - loss: 0.3592 - accuracy: 0.8795\n",
      "Epoch 54/100\n",
      "6/6 [==============================] - 0s 7ms/step - loss: 0.3561 - accuracy: 0.8373\n",
      "Epoch 55/100\n",
      "6/6 [==============================] - 0s 7ms/step - loss: 0.3582 - accuracy: 0.8494\n",
      "Epoch 56/100\n",
      "6/6 [==============================] - 0s 7ms/step - loss: 0.3606 - accuracy: 0.8675\n",
      "Epoch 57/100\n",
      "6/6 [==============================] - 0s 7ms/step - loss: 0.3532 - accuracy: 0.8675\n",
      "Epoch 58/100\n",
      "6/6 [==============================] - 0s 7ms/step - loss: 0.3514 - accuracy: 0.8795\n",
      "Epoch 59/100\n",
      "6/6 [==============================] - 0s 7ms/step - loss: 0.3437 - accuracy: 0.8735\n",
      "Epoch 60/100\n",
      "6/6 [==============================] - 0s 7ms/step - loss: 0.3417 - accuracy: 0.8795\n",
      "Epoch 61/100\n",
      "6/6 [==============================] - 0s 7ms/step - loss: 0.3383 - accuracy: 0.8554\n",
      "Epoch 62/100\n",
      "6/6 [==============================] - 0s 7ms/step - loss: 0.3379 - accuracy: 0.8735\n",
      "Epoch 63/100\n",
      "6/6 [==============================] - 0s 7ms/step - loss: 0.3277 - accuracy: 0.8855\n",
      "Epoch 64/100\n",
      "6/6 [==============================] - 0s 7ms/step - loss: 0.3217 - accuracy: 0.8855\n",
      "Epoch 65/100\n",
      "6/6 [==============================] - 0s 7ms/step - loss: 0.3381 - accuracy: 0.8675\n",
      "Epoch 66/100\n",
      "6/6 [==============================] - 0s 7ms/step - loss: 0.3182 - accuracy: 0.8795\n",
      "Epoch 67/100\n",
      "6/6 [==============================] - 0s 7ms/step - loss: 0.3462 - accuracy: 0.8554\n",
      "Epoch 68/100\n",
      "6/6 [==============================] - 0s 7ms/step - loss: 0.3201 - accuracy: 0.9036\n",
      "Epoch 69/100\n",
      "6/6 [==============================] - 0s 7ms/step - loss: 0.3149 - accuracy: 0.8795\n",
      "Epoch 70/100\n",
      "6/6 [==============================] - 0s 7ms/step - loss: 0.3130 - accuracy: 0.8795\n",
      "Epoch 71/100\n",
      "6/6 [==============================] - 0s 7ms/step - loss: 0.3093 - accuracy: 0.8855\n",
      "Epoch 72/100\n",
      "6/6 [==============================] - 0s 7ms/step - loss: 0.3058 - accuracy: 0.8855\n",
      "Epoch 73/100\n",
      "6/6 [==============================] - 0s 6ms/step - loss: 0.3004 - accuracy: 0.8795\n",
      "Epoch 74/100\n",
      "6/6 [==============================] - 0s 7ms/step - loss: 0.3000 - accuracy: 0.8795\n",
      "Epoch 75/100\n",
      "6/6 [==============================] - 0s 7ms/step - loss: 0.2996 - accuracy: 0.8855\n",
      "Epoch 76/100\n"
     ]
    },
    {
     "name": "stdout",
     "output_type": "stream",
     "text": [
      "6/6 [==============================] - 0s 7ms/step - loss: 0.2922 - accuracy: 0.8976\n",
      "Epoch 77/100\n",
      "6/6 [==============================] - 0s 7ms/step - loss: 0.2913 - accuracy: 0.9217\n",
      "Epoch 78/100\n",
      "6/6 [==============================] - 0s 7ms/step - loss: 0.2870 - accuracy: 0.9036\n",
      "Epoch 79/100\n",
      "6/6 [==============================] - 0s 7ms/step - loss: 0.2875 - accuracy: 0.8855\n",
      "Epoch 80/100\n",
      "6/6 [==============================] - 0s 7ms/step - loss: 0.2811 - accuracy: 0.9157\n",
      "Epoch 81/100\n",
      "6/6 [==============================] - 0s 7ms/step - loss: 0.2836 - accuracy: 0.9096\n",
      "Epoch 82/100\n",
      "6/6 [==============================] - 0s 7ms/step - loss: 0.2771 - accuracy: 0.9036\n",
      "Epoch 83/100\n",
      "6/6 [==============================] - 0s 7ms/step - loss: 0.2763 - accuracy: 0.8916\n",
      "Epoch 84/100\n",
      "6/6 [==============================] - 0s 7ms/step - loss: 0.2776 - accuracy: 0.9036\n",
      "Epoch 85/100\n",
      "6/6 [==============================] - 0s 7ms/step - loss: 0.2713 - accuracy: 0.9277\n",
      "Epoch 86/100\n",
      "6/6 [==============================] - 0s 7ms/step - loss: 0.2718 - accuracy: 0.9036\n",
      "Epoch 87/100\n",
      "6/6 [==============================] - 0s 7ms/step - loss: 0.2669 - accuracy: 0.9036\n",
      "Epoch 88/100\n",
      "6/6 [==============================] - 0s 7ms/step - loss: 0.2611 - accuracy: 0.9277\n",
      "Epoch 89/100\n",
      "6/6 [==============================] - 0s 6ms/step - loss: 0.2704 - accuracy: 0.9217\n",
      "Epoch 90/100\n",
      "6/6 [==============================] - 0s 7ms/step - loss: 0.2647 - accuracy: 0.9277\n",
      "Epoch 91/100\n",
      "6/6 [==============================] - 0s 6ms/step - loss: 0.2619 - accuracy: 0.9036\n",
      "Epoch 92/100\n",
      "6/6 [==============================] - 0s 7ms/step - loss: 0.2514 - accuracy: 0.9217\n",
      "Epoch 93/100\n",
      "6/6 [==============================] - 0s 7ms/step - loss: 0.2589 - accuracy: 0.9217\n",
      "Epoch 94/100\n",
      "6/6 [==============================] - 0s 7ms/step - loss: 0.2456 - accuracy: 0.9217\n",
      "Epoch 95/100\n",
      "6/6 [==============================] - 0s 7ms/step - loss: 0.2591 - accuracy: 0.9036\n",
      "Epoch 96/100\n",
      "6/6 [==============================] - 0s 7ms/step - loss: 0.2511 - accuracy: 0.9217\n",
      "Epoch 97/100\n",
      "6/6 [==============================] - 0s 7ms/step - loss: 0.2545 - accuracy: 0.9217\n",
      "Epoch 98/100\n",
      "6/6 [==============================] - 0s 7ms/step - loss: 0.2508 - accuracy: 0.9157\n",
      "Epoch 99/100\n",
      "6/6 [==============================] - 0s 6ms/step - loss: 0.2387 - accuracy: 0.9337\n",
      "Epoch 100/100\n",
      "6/6 [==============================] - 0s 8ms/step - loss: 0.2363 - accuracy: 0.9277\n"
     ]
    },
    {
     "data": {
      "text/plain": [
       "<keras.src.callbacks.History at 0x1ec675f80d0>"
      ]
     },
     "execution_count": 9,
     "metadata": {},
     "output_type": "execute_result"
    }
   ],
   "source": [
    "model = keras.Sequential([\n",
    "    keras.layers.Dense(30, input_shape=(60,), activation='relu'),\n",
    "    keras.layers.Dense(15, activation='relu'),\n",
    "    keras.layers.Dense(1, activation='sigmoid'),\n",
    "])\n",
    "\n",
    "model.compile(optimizer='adam',\n",
    "             loss='binary_crossentropy',\n",
    "             metrics=['accuracy'])\n",
    "\n",
    "model.fit(X_train, y_train, epochs=100)"
   ]
  },
  {
   "cell_type": "code",
   "execution_count": 10,
   "id": "836874b3",
   "metadata": {},
   "outputs": [
    {
     "name": "stdout",
     "output_type": "stream",
     "text": [
      "2/2 [==============================] - 0s 11ms/step - loss: 0.5082 - accuracy: 0.7381\n"
     ]
    },
    {
     "data": {
      "text/plain": [
       "[0.5081616640090942, 0.738095223903656]"
      ]
     },
     "execution_count": 10,
     "metadata": {},
     "output_type": "execute_result"
    }
   ],
   "source": [
    "model.evaluate(X_test,y_test)"
   ]
  },
  {
   "cell_type": "markdown",
   "id": "9d32a5db",
   "metadata": {},
   "source": [
    "##### => OVERFITTING"
   ]
  },
  {
   "cell_type": "code",
   "execution_count": 11,
   "id": "64dcc949",
   "metadata": {},
   "outputs": [
    {
     "name": "stdout",
     "output_type": "stream",
     "text": [
      "2/2 [==============================] - 0s 6ms/step\n"
     ]
    },
    {
     "data": {
      "text/plain": [
       "array([0, 1, 1, 0, 1, 1, 1, 1, 0, 1, 0, 0, 0, 0, 0, 0, 1, 0, 0, 1, 0, 1,\n",
       "       0, 1, 0, 0, 0, 0, 1, 0, 1, 0, 0, 1, 1, 1, 1, 1, 1, 0, 0, 0])"
      ]
     },
     "execution_count": 11,
     "metadata": {},
     "output_type": "execute_result"
    }
   ],
   "source": [
    "yp_test = model.predict(X_test)\n",
    "yp_test_labeled = np.where(yp_test>0.5, 1, 0)\n",
    "yp_test_labeled.reshape(-1,)"
   ]
  },
  {
   "cell_type": "code",
   "execution_count": 12,
   "id": "f2804e98",
   "metadata": {},
   "outputs": [
    {
     "data": {
      "text/plain": [
       "array([0, 0, 0, 0, 1, 1, 0, 1, 0, 1, 1, 1, 0, 0, 0, 0, 1, 0, 1, 1, 0, 1,\n",
       "       1, 1, 0, 0, 1, 1, 1, 0, 0, 0, 1, 1, 1, 1, 1, 1, 1, 0, 0, 0],\n",
       "      dtype=int16)"
      ]
     },
     "execution_count": 12,
     "metadata": {},
     "output_type": "execute_result"
    }
   ],
   "source": [
    "y_test.values.reshape(-1,)"
   ]
  },
  {
   "cell_type": "code",
   "execution_count": 19,
   "id": "c4850de4",
   "metadata": {},
   "outputs": [
    {
     "data": {
      "text/plain": [
       "array([[16,  7],\n",
       "       [ 4, 15]], dtype=int64)"
      ]
     },
     "execution_count": 19,
     "metadata": {},
     "output_type": "execute_result"
    }
   ],
   "source": [
    "confusion_matrix(yp_test_labeled,y_test)"
   ]
  },
  {
   "cell_type": "markdown",
   "id": "b7b999aa",
   "metadata": {},
   "source": [
    "### Dropout Regulalization"
   ]
  },
  {
   "cell_type": "code",
   "execution_count": 14,
   "id": "f1713588",
   "metadata": {},
   "outputs": [
    {
     "name": "stdout",
     "output_type": "stream",
     "text": [
      "Epoch 1/100\n",
      "6/6 [==============================] - 2s 5ms/step - loss: 0.7242 - accuracy: 0.4699\n",
      "Epoch 2/100\n",
      "6/6 [==============================] - 0s 5ms/step - loss: 0.6808 - accuracy: 0.5361\n",
      "Epoch 3/100\n",
      "6/6 [==============================] - 0s 5ms/step - loss: 0.7093 - accuracy: 0.5241\n",
      "Epoch 4/100\n",
      "6/6 [==============================] - 0s 5ms/step - loss: 0.7029 - accuracy: 0.4940\n",
      "Epoch 5/100\n",
      "6/6 [==============================] - 0s 5ms/step - loss: 0.7025 - accuracy: 0.5181\n",
      "Epoch 6/100\n",
      "6/6 [==============================] - 0s 6ms/step - loss: 0.7021 - accuracy: 0.4940\n",
      "Epoch 7/100\n",
      "6/6 [==============================] - 0s 6ms/step - loss: 0.6927 - accuracy: 0.5723\n",
      "Epoch 8/100\n",
      "6/6 [==============================] - 0s 6ms/step - loss: 0.7016 - accuracy: 0.4940\n",
      "Epoch 9/100\n",
      "6/6 [==============================] - 0s 5ms/step - loss: 0.6657 - accuracy: 0.5723\n",
      "Epoch 10/100\n",
      "6/6 [==============================] - 0s 5ms/step - loss: 0.6797 - accuracy: 0.5542\n",
      "Epoch 11/100\n",
      "6/6 [==============================] - 0s 5ms/step - loss: 0.6994 - accuracy: 0.5723\n",
      "Epoch 12/100\n",
      "6/6 [==============================] - 0s 6ms/step - loss: 0.6945 - accuracy: 0.5000\n",
      "Epoch 13/100\n",
      "6/6 [==============================] - 0s 5ms/step - loss: 0.6658 - accuracy: 0.5904\n",
      "Epoch 14/100\n",
      "6/6 [==============================] - 0s 4ms/step - loss: 0.6815 - accuracy: 0.5060\n",
      "Epoch 15/100\n",
      "6/6 [==============================] - 0s 4ms/step - loss: 0.6846 - accuracy: 0.5301\n",
      "Epoch 16/100\n",
      "6/6 [==============================] - 0s 4ms/step - loss: 0.6656 - accuracy: 0.5783\n",
      "Epoch 17/100\n",
      "6/6 [==============================] - 0s 5ms/step - loss: 0.6664 - accuracy: 0.6265\n",
      "Epoch 18/100\n",
      "6/6 [==============================] - 0s 5ms/step - loss: 0.6498 - accuracy: 0.6084\n",
      "Epoch 19/100\n",
      "6/6 [==============================] - 0s 5ms/step - loss: 0.6657 - accuracy: 0.5783\n",
      "Epoch 20/100\n",
      "6/6 [==============================] - 0s 8ms/step - loss: 0.6770 - accuracy: 0.5964\n",
      "Epoch 21/100\n",
      "6/6 [==============================] - 0s 8ms/step - loss: 0.6602 - accuracy: 0.5964\n",
      "Epoch 22/100\n",
      "6/6 [==============================] - 0s 8ms/step - loss: 0.6681 - accuracy: 0.5602\n",
      "Epoch 23/100\n",
      "6/6 [==============================] - 0s 8ms/step - loss: 0.6549 - accuracy: 0.5843\n",
      "Epoch 24/100\n",
      "6/6 [==============================] - 0s 8ms/step - loss: 0.6400 - accuracy: 0.6205\n",
      "Epoch 25/100\n",
      "6/6 [==============================] - 0s 7ms/step - loss: 0.6525 - accuracy: 0.5843\n",
      "Epoch 26/100\n",
      "6/6 [==============================] - 0s 8ms/step - loss: 0.6517 - accuracy: 0.5663\n",
      "Epoch 27/100\n",
      "6/6 [==============================] - 0s 10ms/step - loss: 0.6617 - accuracy: 0.6205\n",
      "Epoch 28/100\n",
      "6/6 [==============================] - 0s 9ms/step - loss: 0.6543 - accuracy: 0.6084\n",
      "Epoch 29/100\n",
      "6/6 [==============================] - 0s 9ms/step - loss: 0.6541 - accuracy: 0.5783\n",
      "Epoch 30/100\n",
      "6/6 [==============================] - 0s 9ms/step - loss: 0.6588 - accuracy: 0.5783\n",
      "Epoch 31/100\n",
      "6/6 [==============================] - 0s 9ms/step - loss: 0.6518 - accuracy: 0.5723\n",
      "Epoch 32/100\n",
      "6/6 [==============================] - 0s 9ms/step - loss: 0.6368 - accuracy: 0.6205\n",
      "Epoch 33/100\n",
      "6/6 [==============================] - 0s 9ms/step - loss: 0.6650 - accuracy: 0.5602\n",
      "Epoch 34/100\n",
      "6/6 [==============================] - 0s 9ms/step - loss: 0.6269 - accuracy: 0.6566\n",
      "Epoch 35/100\n",
      "6/6 [==============================] - 0s 9ms/step - loss: 0.6409 - accuracy: 0.6265\n",
      "Epoch 36/100\n",
      "6/6 [==============================] - 0s 9ms/step - loss: 0.6345 - accuracy: 0.7048\n",
      "Epoch 37/100\n",
      "6/6 [==============================] - 0s 9ms/step - loss: 0.6556 - accuracy: 0.6084\n",
      "Epoch 38/100\n",
      "6/6 [==============================] - 0s 9ms/step - loss: 0.6236 - accuracy: 0.6325\n",
      "Epoch 39/100\n",
      "6/6 [==============================] - 0s 11ms/step - loss: 0.6387 - accuracy: 0.6205\n",
      "Epoch 40/100\n",
      "6/6 [==============================] - 0s 11ms/step - loss: 0.6051 - accuracy: 0.6928\n",
      "Epoch 41/100\n",
      "6/6 [==============================] - 0s 10ms/step - loss: 0.6188 - accuracy: 0.6988\n",
      "Epoch 42/100\n",
      "6/6 [==============================] - 0s 10ms/step - loss: 0.6118 - accuracy: 0.6506\n",
      "Epoch 43/100\n",
      "6/6 [==============================] - 0s 9ms/step - loss: 0.6044 - accuracy: 0.7470\n",
      "Epoch 44/100\n",
      "6/6 [==============================] - 0s 9ms/step - loss: 0.6168 - accuracy: 0.6928\n",
      "Epoch 45/100\n",
      "6/6 [==============================] - 0s 9ms/step - loss: 0.6193 - accuracy: 0.7108\n",
      "Epoch 46/100\n",
      "6/6 [==============================] - 0s 9ms/step - loss: 0.5885 - accuracy: 0.6807\n",
      "Epoch 47/100\n",
      "6/6 [==============================] - 0s 9ms/step - loss: 0.6035 - accuracy: 0.6627\n",
      "Epoch 48/100\n",
      "6/6 [==============================] - 0s 10ms/step - loss: 0.6156 - accuracy: 0.7048\n",
      "Epoch 49/100\n",
      "6/6 [==============================] - 0s 10ms/step - loss: 0.5801 - accuracy: 0.7590\n",
      "Epoch 50/100\n",
      "6/6 [==============================] - 0s 10ms/step - loss: 0.5905 - accuracy: 0.7349\n",
      "Epoch 51/100\n",
      "6/6 [==============================] - 0s 10ms/step - loss: 0.6048 - accuracy: 0.6807\n",
      "Epoch 52/100\n",
      "6/6 [==============================] - 0s 9ms/step - loss: 0.6039 - accuracy: 0.6747\n",
      "Epoch 53/100\n",
      "6/6 [==============================] - 0s 5ms/step - loss: 0.6050 - accuracy: 0.6928\n",
      "Epoch 54/100\n",
      "6/6 [==============================] - 0s 5ms/step - loss: 0.6031 - accuracy: 0.6988\n",
      "Epoch 55/100\n",
      "6/6 [==============================] - 0s 5ms/step - loss: 0.5720 - accuracy: 0.7229\n",
      "Epoch 56/100\n",
      "6/6 [==============================] - 0s 5ms/step - loss: 0.5893 - accuracy: 0.7229\n",
      "Epoch 57/100\n",
      "6/6 [==============================] - 0s 7ms/step - loss: 0.5778 - accuracy: 0.7229\n",
      "Epoch 58/100\n",
      "6/6 [==============================] - 0s 11ms/step - loss: 0.5956 - accuracy: 0.7289\n",
      "Epoch 59/100\n",
      "6/6 [==============================] - 0s 10ms/step - loss: 0.5608 - accuracy: 0.7229\n",
      "Epoch 60/100\n",
      "6/6 [==============================] - 0s 10ms/step - loss: 0.5848 - accuracy: 0.6807\n",
      "Epoch 61/100\n",
      "6/6 [==============================] - 0s 9ms/step - loss: 0.5811 - accuracy: 0.6928\n",
      "Epoch 62/100\n",
      "6/6 [==============================] - 0s 9ms/step - loss: 0.5659 - accuracy: 0.7229\n",
      "Epoch 63/100\n",
      "6/6 [==============================] - 0s 10ms/step - loss: 0.5987 - accuracy: 0.6807\n",
      "Epoch 64/100\n",
      "6/6 [==============================] - 0s 11ms/step - loss: 0.5852 - accuracy: 0.6687\n",
      "Epoch 65/100\n",
      "6/6 [==============================] - 0s 10ms/step - loss: 0.5775 - accuracy: 0.7229\n",
      "Epoch 66/100\n",
      "6/6 [==============================] - 0s 9ms/step - loss: 0.5633 - accuracy: 0.7470\n",
      "Epoch 67/100\n",
      "6/6 [==============================] - 0s 9ms/step - loss: 0.5404 - accuracy: 0.7108\n",
      "Epoch 68/100\n",
      "6/6 [==============================] - 0s 8ms/step - loss: 0.5589 - accuracy: 0.6928\n",
      "Epoch 69/100\n",
      "6/6 [==============================] - 0s 9ms/step - loss: 0.5595 - accuracy: 0.7048\n",
      "Epoch 70/100\n",
      "6/6 [==============================] - 0s 9ms/step - loss: 0.5554 - accuracy: 0.7711\n",
      "Epoch 71/100\n",
      "6/6 [==============================] - 0s 9ms/step - loss: 0.5563 - accuracy: 0.7470\n",
      "Epoch 72/100\n",
      "6/6 [==============================] - 0s 9ms/step - loss: 0.5523 - accuracy: 0.7289\n",
      "Epoch 73/100\n",
      "6/6 [==============================] - 0s 9ms/step - loss: 0.5461 - accuracy: 0.7048\n",
      "Epoch 74/100\n",
      "6/6 [==============================] - 0s 9ms/step - loss: 0.5170 - accuracy: 0.7711\n",
      "Epoch 75/100\n",
      "6/6 [==============================] - 0s 9ms/step - loss: 0.5645 - accuracy: 0.7048\n",
      "Epoch 76/100\n",
      "6/6 [==============================] - 0s 9ms/step - loss: 0.5367 - accuracy: 0.7470\n",
      "Epoch 77/100\n",
      "6/6 [==============================] - 0s 9ms/step - loss: 0.5679 - accuracy: 0.7048\n",
      "Epoch 78/100\n",
      "6/6 [==============================] - 0s 8ms/step - loss: 0.5086 - accuracy: 0.7349\n",
      "Epoch 79/100\n",
      "6/6 [==============================] - 0s 9ms/step - loss: 0.5352 - accuracy: 0.7229\n",
      "Epoch 80/100\n",
      "6/6 [==============================] - 0s 11ms/step - loss: 0.4835 - accuracy: 0.8133\n",
      "Epoch 81/100\n",
      "6/6 [==============================] - 0s 5ms/step - loss: 0.4981 - accuracy: 0.7771\n",
      "Epoch 82/100\n",
      "6/6 [==============================] - 0s 4ms/step - loss: 0.4964 - accuracy: 0.7590\n",
      "Epoch 83/100\n",
      "6/6 [==============================] - 0s 5ms/step - loss: 0.5528 - accuracy: 0.7711\n",
      "Epoch 84/100\n"
     ]
    },
    {
     "name": "stdout",
     "output_type": "stream",
     "text": [
      "6/6 [==============================] - 0s 4ms/step - loss: 0.5526 - accuracy: 0.7470\n",
      "Epoch 85/100\n",
      "6/6 [==============================] - 0s 4ms/step - loss: 0.5241 - accuracy: 0.7831\n",
      "Epoch 86/100\n",
      "6/6 [==============================] - 0s 4ms/step - loss: 0.5294 - accuracy: 0.7229\n",
      "Epoch 87/100\n",
      "6/6 [==============================] - 0s 5ms/step - loss: 0.4832 - accuracy: 0.7831\n",
      "Epoch 88/100\n",
      "6/6 [==============================] - 0s 5ms/step - loss: 0.5112 - accuracy: 0.7892\n",
      "Epoch 89/100\n",
      "6/6 [==============================] - 0s 9ms/step - loss: 0.5445 - accuracy: 0.7530\n",
      "Epoch 90/100\n",
      "6/6 [==============================] - 0s 8ms/step - loss: 0.4983 - accuracy: 0.7590\n",
      "Epoch 91/100\n",
      "6/6 [==============================] - 0s 8ms/step - loss: 0.4995 - accuracy: 0.7651\n",
      "Epoch 92/100\n",
      "6/6 [==============================] - 0s 8ms/step - loss: 0.4983 - accuracy: 0.7590\n",
      "Epoch 93/100\n",
      "6/6 [==============================] - 0s 9ms/step - loss: 0.5074 - accuracy: 0.7470\n",
      "Epoch 94/100\n",
      "6/6 [==============================] - 0s 9ms/step - loss: 0.4767 - accuracy: 0.7711\n",
      "Epoch 95/100\n",
      "6/6 [==============================] - 0s 8ms/step - loss: 0.4899 - accuracy: 0.7711\n",
      "Epoch 96/100\n",
      "6/6 [==============================] - 0s 9ms/step - loss: 0.4904 - accuracy: 0.7831\n",
      "Epoch 97/100\n",
      "6/6 [==============================] - 0s 9ms/step - loss: 0.4771 - accuracy: 0.7711\n",
      "Epoch 98/100\n",
      "6/6 [==============================] - 0s 9ms/step - loss: 0.4604 - accuracy: 0.8193\n",
      "Epoch 99/100\n",
      "6/6 [==============================] - 0s 9ms/step - loss: 0.4639 - accuracy: 0.7892\n",
      "Epoch 100/100\n",
      "6/6 [==============================] - 0s 9ms/step - loss: 0.4544 - accuracy: 0.7590\n"
     ]
    },
    {
     "data": {
      "text/plain": [
       "<keras.src.callbacks.History at 0x1ec68a5fe10>"
      ]
     },
     "execution_count": 14,
     "metadata": {},
     "output_type": "execute_result"
    }
   ],
   "source": [
    "model2 = keras.Sequential([\n",
    "    keras.layers.Dense(30, input_shape=(60,), activation='relu'),\n",
    "    keras.layers.Dropout(0.5),\n",
    "    keras.layers.Dense(15, activation='relu'),\n",
    "    keras.layers.Dropout(0.5),\n",
    "    keras.layers.Dense(1, activation='sigmoid'),\n",
    "])\n",
    "\n",
    "model2.compile(optimizer='adam',\n",
    "             loss='binary_crossentropy',\n",
    "             metrics=['accuracy'])\n",
    "\n",
    "model2.fit(X_train, y_train, epochs=100)"
   ]
  },
  {
   "cell_type": "code",
   "execution_count": 15,
   "id": "f2b33060",
   "metadata": {},
   "outputs": [
    {
     "name": "stdout",
     "output_type": "stream",
     "text": [
      "2/2 [==============================] - 0s 9ms/step - loss: 0.4897 - accuracy: 0.7857\n"
     ]
    },
    {
     "data": {
      "text/plain": [
       "[0.48965543508529663, 0.7857142686843872]"
      ]
     },
     "execution_count": 15,
     "metadata": {},
     "output_type": "execute_result"
    }
   ],
   "source": [
    "model2.evaluate(X_test,y_test)"
   ]
  },
  {
   "cell_type": "code",
   "execution_count": 24,
   "id": "d2f84bc0",
   "metadata": {},
   "outputs": [
    {
     "name": "stdout",
     "output_type": "stream",
     "text": [
      "2/2 [==============================] - 0s 4ms/step\n"
     ]
    },
    {
     "data": {
      "text/plain": [
       "array([0, 1, 1, 0, 1, 1, 0, 1, 0, 1, 0, 0, 0, 0, 0, 0, 1, 0, 0, 1, 0, 1,\n",
       "       0, 1, 0, 0, 0, 0, 1, 0, 0, 0, 1, 1, 0, 1, 1, 1, 1, 0, 0, 0])"
      ]
     },
     "execution_count": 24,
     "metadata": {},
     "output_type": "execute_result"
    }
   ],
   "source": [
    "yp2_test = model2.predict(X_test)\n",
    "yp2_test_labeled = np.where(yp2_test>0.5, 1, 0)\n",
    "yp2_test_labeled.reshape(-1,)"
   ]
  },
  {
   "cell_type": "code",
   "execution_count": 25,
   "id": "b8249382",
   "metadata": {
    "scrolled": true
   },
   "outputs": [
    {
     "data": {
      "text/plain": [
       "array([0, 0, 0, 0, 1, 1, 0, 1, 0, 1, 1, 1, 0, 0, 0, 0, 1, 0, 1, 1, 0, 1,\n",
       "       1, 1, 0, 0, 1, 1, 1, 0, 0, 0, 1, 1, 1, 1, 1, 1, 1, 0, 0, 0],\n",
       "      dtype=int16)"
      ]
     },
     "execution_count": 25,
     "metadata": {},
     "output_type": "execute_result"
    }
   ],
   "source": [
    "y_test.values.reshape(-1,)"
   ]
  },
  {
   "cell_type": "code",
   "execution_count": 26,
   "id": "1d4ccac3",
   "metadata": {},
   "outputs": [
    {
     "data": {
      "text/plain": [
       "array([[18,  7],\n",
       "       [ 2, 15]], dtype=int64)"
      ]
     },
     "execution_count": 26,
     "metadata": {},
     "output_type": "execute_result"
    }
   ],
   "source": [
    "confusion_matrix(yp2_test_labeled, y_test)"
   ]
  },
  {
   "cell_type": "code",
   "execution_count": null,
   "id": "035b8d9a",
   "metadata": {},
   "outputs": [],
   "source": []
  }
 ],
 "metadata": {
  "kernelspec": {
   "display_name": "Python 3 (ipykernel)",
   "language": "python",
   "name": "python3"
  },
  "language_info": {
   "codemirror_mode": {
    "name": "ipython",
    "version": 3
   },
   "file_extension": ".py",
   "mimetype": "text/x-python",
   "name": "python",
   "nbconvert_exporter": "python",
   "pygments_lexer": "ipython3",
   "version": "3.11.5"
  }
 },
 "nbformat": 4,
 "nbformat_minor": 5
}
